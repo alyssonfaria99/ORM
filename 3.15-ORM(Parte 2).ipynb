{
 "cells": [
  {
   "cell_type": "markdown",
   "metadata": {},
   "source": [
    "## Exercícios\n",
    "\n",
    "> Retirados de [learn-python: sqlalchemy_orm-questions](https://aviadr1.github.io/learn-advanced-python/11_db_access/exercise/sqlalchemy_orm-questions.html).\n",
    "\n",
    "#### Q1.\n",
    "\n",
    "Baixa e extraia o arquivo compactado com o banco de dados [Chinook database](https://www.sqlitetutorial.net/sqlite-sample-database/). Salve o arquivo `chinook.db` na mesma pasta deste script.\n",
    "* Link para baixar: http://www.sqlitetutorial.net/wp-content/uploads/2018/03/chinook.zip\n",
    "\n",
    "<img width=500 src=https://www.sqlitetutorial.net/wp-content/uploads/2015/11/sqlite-sample-database-color.jpg>\n"
   ]
  },
  {
   "cell_type": "markdown",
   "metadata": {},
   "source": [
    "#### Q2.\n",
    "\n",
    "Leia o código e os comentários das células a seguir para entender como acessamos os modelos ORM de um banco já existente."
   ]
  },
  {
   "cell_type": "code",
   "execution_count": 4,
   "metadata": {},
   "outputs": [
    {
     "name": "stdout",
     "output_type": "stream",
     "text": [
      "albums\n",
      "['AlbumId', 'Title', 'ArtistId']\n",
      "[('AlbumId', Column('AlbumId', INTEGER(), table=<albums>, primary_key=True, nullable=False)), ('Title', Column('Title', NVARCHAR(length=160), table=<albums>, nullable=False)), ('ArtistId', Column('ArtistId', INTEGER(), ForeignKey('artists.ArtistId'), table=<albums>, nullable=False))]\n",
      "-------------------------\n",
      "artists\n",
      "['ArtistId', 'Name']\n",
      "[('ArtistId', Column('ArtistId', INTEGER(), table=<artists>, primary_key=True, nullable=False)), ('Name', Column('Name', NVARCHAR(length=120), table=<artists>))]\n",
      "-------------------------\n",
      "customers\n",
      "['CustomerId', 'FirstName', 'LastName', 'Company', 'Address', 'City', 'State', 'Country', 'PostalCode', 'Phone', 'Fax', 'Email', 'SupportRepId']\n",
      "[('CustomerId', Column('CustomerId', INTEGER(), table=<customers>, primary_key=True, nullable=False)), ('FirstName', Column('FirstName', NVARCHAR(length=40), table=<customers>, nullable=False)), ('LastName', Column('LastName', NVARCHAR(length=20), table=<customers>, nullable=False)), ('Company', Column('Company', NVARCHAR(length=80), table=<customers>)), ('Address', Column('Address', NVARCHAR(length=70), table=<customers>)), ('City', Column('City', NVARCHAR(length=40), table=<customers>)), ('State', Column('State', NVARCHAR(length=40), table=<customers>)), ('Country', Column('Country', NVARCHAR(length=40), table=<customers>)), ('PostalCode', Column('PostalCode', NVARCHAR(length=10), table=<customers>)), ('Phone', Column('Phone', NVARCHAR(length=24), table=<customers>)), ('Fax', Column('Fax', NVARCHAR(length=24), table=<customers>)), ('Email', Column('Email', NVARCHAR(length=60), table=<customers>, nullable=False)), ('SupportRepId', Column('SupportRepId', INTEGER(), ForeignKey('employees.EmployeeId'), table=<customers>))]\n",
      "-------------------------\n",
      "employees\n",
      "['EmployeeId', 'LastName', 'FirstName', 'Title', 'ReportsTo', 'BirthDate', 'HireDate', 'Address', 'City', 'State', 'Country', 'PostalCode', 'Phone', 'Fax', 'Email']\n",
      "[('EmployeeId', Column('EmployeeId', INTEGER(), table=<employees>, primary_key=True, nullable=False)), ('LastName', Column('LastName', NVARCHAR(length=20), table=<employees>, nullable=False)), ('FirstName', Column('FirstName', NVARCHAR(length=20), table=<employees>, nullable=False)), ('Title', Column('Title', NVARCHAR(length=30), table=<employees>)), ('ReportsTo', Column('ReportsTo', INTEGER(), ForeignKey('employees.EmployeeId'), table=<employees>)), ('BirthDate', Column('BirthDate', DATETIME(), table=<employees>)), ('HireDate', Column('HireDate', DATETIME(), table=<employees>)), ('Address', Column('Address', NVARCHAR(length=70), table=<employees>)), ('City', Column('City', NVARCHAR(length=40), table=<employees>)), ('State', Column('State', NVARCHAR(length=40), table=<employees>)), ('Country', Column('Country', NVARCHAR(length=40), table=<employees>)), ('PostalCode', Column('PostalCode', NVARCHAR(length=10), table=<employees>)), ('Phone', Column('Phone', NVARCHAR(length=24), table=<employees>)), ('Fax', Column('Fax', NVARCHAR(length=24), table=<employees>)), ('Email', Column('Email', NVARCHAR(length=60), table=<employees>))]\n",
      "-------------------------\n",
      "genres\n",
      "['GenreId', 'Name']\n",
      "[('GenreId', Column('GenreId', INTEGER(), table=<genres>, primary_key=True, nullable=False)), ('Name', Column('Name', NVARCHAR(length=120), table=<genres>))]\n",
      "-------------------------\n",
      "invoice_items\n",
      "['InvoiceLineId', 'InvoiceId', 'TrackId', 'UnitPrice', 'Quantity']\n",
      "[('InvoiceLineId', Column('InvoiceLineId', INTEGER(), table=<invoice_items>, primary_key=True, nullable=False)), ('InvoiceId', Column('InvoiceId', INTEGER(), ForeignKey('invoices.InvoiceId'), table=<invoice_items>, nullable=False)), ('TrackId', Column('TrackId', INTEGER(), ForeignKey('tracks.TrackId'), table=<invoice_items>, nullable=False)), ('UnitPrice', Column('UnitPrice', NUMERIC(precision=10, scale=2), table=<invoice_items>, nullable=False)), ('Quantity', Column('Quantity', INTEGER(), table=<invoice_items>, nullable=False))]\n",
      "-------------------------\n",
      "tracks\n",
      "['TrackId', 'Name', 'AlbumId', 'MediaTypeId', 'GenreId', 'Composer', 'Milliseconds', 'Bytes', 'UnitPrice']\n",
      "[('TrackId', Column('TrackId', INTEGER(), table=<tracks>, primary_key=True, nullable=False)), ('Name', Column('Name', NVARCHAR(length=200), table=<tracks>, nullable=False)), ('AlbumId', Column('AlbumId', INTEGER(), ForeignKey('albums.AlbumId'), table=<tracks>)), ('MediaTypeId', Column('MediaTypeId', INTEGER(), ForeignKey('media_types.MediaTypeId'), table=<tracks>, nullable=False)), ('GenreId', Column('GenreId', INTEGER(), ForeignKey('genres.GenreId'), table=<tracks>)), ('Composer', Column('Composer', NVARCHAR(length=220), table=<tracks>)), ('Milliseconds', Column('Milliseconds', INTEGER(), table=<tracks>, nullable=False)), ('Bytes', Column('Bytes', INTEGER(), table=<tracks>)), ('UnitPrice', Column('UnitPrice', NUMERIC(precision=10, scale=2), table=<tracks>, nullable=False))]\n",
      "-------------------------\n",
      "media_types\n",
      "['MediaTypeId', 'Name']\n",
      "[('MediaTypeId', Column('MediaTypeId', INTEGER(), table=<media_types>, primary_key=True, nullable=False)), ('Name', Column('Name', NVARCHAR(length=120), table=<media_types>))]\n",
      "-------------------------\n",
      "invoices\n",
      "['InvoiceId', 'CustomerId', 'InvoiceDate', 'BillingAddress', 'BillingCity', 'BillingState', 'BillingCountry', 'BillingPostalCode', 'Total']\n",
      "[('InvoiceId', Column('InvoiceId', INTEGER(), table=<invoices>, primary_key=True, nullable=False)), ('CustomerId', Column('CustomerId', INTEGER(), ForeignKey('customers.CustomerId'), table=<invoices>, nullable=False)), ('InvoiceDate', Column('InvoiceDate', DATETIME(), table=<invoices>, nullable=False)), ('BillingAddress', Column('BillingAddress', NVARCHAR(length=70), table=<invoices>)), ('BillingCity', Column('BillingCity', NVARCHAR(length=40), table=<invoices>)), ('BillingState', Column('BillingState', NVARCHAR(length=40), table=<invoices>)), ('BillingCountry', Column('BillingCountry', NVARCHAR(length=40), table=<invoices>)), ('BillingPostalCode', Column('BillingPostalCode', NVARCHAR(length=10), table=<invoices>)), ('Total', Column('Total', NUMERIC(precision=10, scale=2), table=<invoices>, nullable=False))]\n",
      "-------------------------\n",
      "playlist_track\n",
      "['PlaylistId', 'TrackId']\n",
      "[('PlaylistId', Column('PlaylistId', INTEGER(), ForeignKey('playlists.PlaylistId'), table=<playlist_track>, primary_key=True, nullable=False)), ('TrackId', Column('TrackId', INTEGER(), ForeignKey('tracks.TrackId'), table=<playlist_track>, primary_key=True, nullable=False))]\n",
      "-------------------------\n",
      "playlists\n",
      "['PlaylistId', 'Name']\n",
      "[('PlaylistId', Column('PlaylistId', INTEGER(), table=<playlists>, primary_key=True, nullable=False)), ('Name', Column('Name', NVARCHAR(length=120), table=<playlists>))]\n",
      "-------------------------\n",
      "[('invoices', <class 'sqlalchemy.ext.automap.invoices'>), ('playlists', <class 'sqlalchemy.ext.automap.playlists'>), ('tracks', <class 'sqlalchemy.ext.automap.tracks'>), ('invoice_items', <class 'sqlalchemy.ext.automap.invoice_items'>), ('customers', <class 'sqlalchemy.ext.automap.customers'>), ('artists', <class 'sqlalchemy.ext.automap.artists'>), ('employees', <class 'sqlalchemy.ext.automap.employees'>), ('media_types', <class 'sqlalchemy.ext.automap.media_types'>), ('genres', <class 'sqlalchemy.ext.automap.genres'>), ('albums', <class 'sqlalchemy.ext.automap.albums'>)]\n"
     ]
    }
   ],
   "source": [
    "from sqlalchemy import create_engine, text, MetaData, select\n",
    "from sqlalchemy.orm import Session\n",
    "\n",
    "engine = create_engine(\"sqlite+pysqlite:///chinook.db\", echo=False)\n",
    "\n",
    "### extrai as classes da base de dados Chinook\n",
    "metadata = MetaData()\n",
    "metadata.reflect(engine)\n",
    "\n",
    "# O metadata tem informações sobre as tabelas\n",
    "# que serão usadas para criar os modelos ORM\n",
    "for table_name, table in metadata.tables.items():\n",
    "    print(table_name)\n",
    "    print(table.columns.keys())\n",
    "    print(table.columns.items())\n",
    "    print('-'*25)\n",
    "\n",
    "### configura o objeto Base mapeando os modelos ORM das tabelas\n",
    "from sqlalchemy.ext.automap import automap_base\n",
    "Base = automap_base(metadata=metadata)\n",
    "Base.prepare()\n",
    "\n",
    "# o objeto Base tem os modelos ORM que podemos usar\n",
    "# para manipular o banco de dados\n",
    "print(Base.classes.items())"
   ]
  },
  {
   "cell_type": "code",
   "execution_count": 5,
   "metadata": {},
   "outputs": [
    {
     "name": "stdout",
     "output_type": "stream",
     "text": [
      "1 For Those About To Rock We Salute You\n"
     ]
    }
   ],
   "source": [
    "# A seguir um exemplo de query na tabela Albums\n",
    "# usamos o objeto Base para acessar cada modelo ORM.\n",
    "\n",
    "session = Session(engine)\n",
    "res = session.scalars(select(Base.classes.albums))\n",
    "first_album = res.first()\n",
    "print(first_album.AlbumId, first_album.Title)"
   ]
  },
  {
   "cell_type": "markdown",
   "metadata": {},
   "source": [
    "#### Q3. \n",
    "Com base nos códigos anteriores realize as operações solicitadas nas células a seguir:\n"
   ]
  },
  {
   "cell_type": "code",
   "execution_count": 9,
   "metadata": {},
   "outputs": [
    {
     "name": "stdout",
     "output_type": "stream",
     "text": [
      "(<sqlalchemy.ext.automap.tracks object at 0x0000016F83DD8AA0>,)\n",
      "(<sqlalchemy.ext.automap.tracks object at 0x0000016F83DDA810>,)\n",
      "(<sqlalchemy.ext.automap.tracks object at 0x0000016F83EB9E20>,)\n"
     ]
    }
   ],
   "source": [
    "### Imprima os três primeiros registros da tabela tracks\n",
    "Track = Base.classes.tracks\n",
    "\n",
    "tracks_query = session.execute(select(Track).limit(3))\n",
    "tracks_rows = tracks_query.fetchall()\n",
    "for track in tracks_rows:\n",
    "    print(track)"
   ]
  },
  {
   "cell_type": "code",
   "execution_count": null,
   "metadata": {},
   "outputs": [],
   "source": [
    "### Imprima o nome da faixa e o título do álbum das primeiras 20 faixas na tabela tracks.\n",
    "Album = Base.classes.albums"
   ]
  },
  {
   "cell_type": "code",
   "execution_count": null,
   "metadata": {},
   "outputs": [],
   "source": [
    "### Imprima as 10 primeiras vendas de faixas da tabela invoice_items\n",
    "### Para essas 10 primeiras vendas, imprima os nomes das faixas vendidas e a quantidade vendida.\n"
   ]
  },
  {
   "cell_type": "code",
   "execution_count": null,
   "metadata": {},
   "outputs": [],
   "source": [
    "### Imprima os nomes das 10 faixas mais vendidas e quantas vezes foram vendidas."
   ]
  },
  {
   "cell_type": "code",
   "execution_count": null,
   "metadata": {},
   "outputs": [],
   "source": [
    "### Quem são os 10 artistas que mais venderam?\n",
    "### dica: você precisa juntar as tabelas invoice_items, tracks, albums e artists"
   ]
  }
 ],
 "metadata": {
  "language_info": {
   "name": "python"
  }
 },
 "nbformat": 4,
 "nbformat_minor": 2
}
