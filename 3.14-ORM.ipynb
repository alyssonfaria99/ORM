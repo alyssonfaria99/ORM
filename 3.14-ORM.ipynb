{
 "cells": [
  {
   "cell_type": "markdown",
   "metadata": {},
   "source": [
    "> Projeto Desenvolve <br>\n",
    "Programação Intermediária com Python <br>\n",
    "Profa. Camila Laranjeira (mila@projetodesenvolve.com.br) <br>\n",
    "\n",
    "# 3.14 - ORM"
   ]
  },
  {
   "cell_type": "markdown",
   "metadata": {},
   "source": [
    "## Exercícios\n",
    "\n",
    "#### Q1. Conhecendo os dados\n",
    "Baixe o seguinte csv onde iremos trabalhar. Ele contém informações sobre salários de profissionais de dados de uma empresa hipotética entre 2009 e 2016\n",
    "* https://github.com/camilalaranjeira/python-intermediario/blob/main/salaries.csv\n",
    "\n",
    "Suas colunas, descritas na [página do Kaggle que contém o dataset](https://www.kaggle.com/datasets/krishujeniya/salary-prediction-of-data-professions?resource=download), são:\n",
    "* FIRST NAME: Primeiro nome do profissional de dados (String)\n",
    "* LAST NAME: Sobrenome do profissional de dados (String)\n",
    "* SEX: Gênero do profissional de dados (String: 'F' para Feminino, 'M' para Masculino)\n",
    "* DOJ (Date of Joining): A data em que o profissional de dados ingressou na empresa (Data no formato MM/DD/AAAA)\n",
    "* CURRENT DATE: A data atual ou a data de referência dos dados (Data no formato MM/DD/AAAA)\n",
    "* DESIGNATION: O cargo ou designação do profissional de dados (String: ex., Analista, Analista Sênior, Gerente)\n",
    "* AGE: Idade do profissional de dados (Integer)\n",
    "* SALARY: Salário anual do profissional de dados (Float)\n",
    "* UNIT: Unidade de negócios ou departamento em que o profissional de dados trabalha (String: ex., TI, Finanças, Marketing)\n",
    "* LEAVES USED: Número de licenças utilizadas pelo profissional de dados (Integer)\n",
    "* LEAVES REMAINING: Número de licenças restantes para o profissional de dados (Integer)\n",
    "* RATINGS: Avaliações de desempenho do profissional de dados (Float)\n",
    "* PAST EXP: Experiência de trabalho anterior em anos antes de ingressar na empresa atual (Float)\n",
    "\n",
    "Na célula a seguir, **carregue os dados do CSV e dê uma olhada neles antes de seguir**."
   ]
  },
  {
   "cell_type": "code",
   "execution_count": 2,
   "metadata": {},
   "outputs": [
    {
     "name": "stdout",
     "output_type": "stream",
     "text": [
      "     FIRST NAME   LAST NAME SEX         DOJ CURRENT DATE     DESIGNATION  \\\n",
      "0        TOMASA       ARMEN   F   5-18-2014   01-07-2016         Analyst   \n",
      "1         ANNIE         NaN   F         NaN   01-07-2016       Associate   \n",
      "2         OLIVE        ANCY   F   7-28-2014   01-07-2016         Analyst   \n",
      "3        CHERRY     AQUILAR   F  04-03-2013   01-07-2016         Analyst   \n",
      "4          LEON  ABOULAHOUD   M  11-20-2014   01-07-2016         Analyst   \n",
      "...         ...         ...  ..         ...          ...             ...   \n",
      "2634  KATHERINE      ALSDON   F   6-28-2011   01-07-2016  Senior Manager   \n",
      "2635     LOUISE     ALTARAS   F   1-14-2014   01-07-2016         Analyst   \n",
      "2636      RENEE      ALVINO   F   1-23-2014   01-07-2016         Analyst   \n",
      "2637       TERI   ANASTASIO   F   3-17-2014   01-07-2016         Analyst   \n",
      "2638    GREGORY      ABARCA   M   9-18-2014   01-07-2016         Analyst   \n",
      "\n",
      "       AGE  SALARY        UNIT  LEAVES USED  LEAVES REMAINING  RATINGS  \\\n",
      "0     21.0   44570     Finance         24.0               6.0      2.0   \n",
      "1      NaN   89207         Web          NaN              13.0      NaN   \n",
      "2     21.0   40955     Finance         23.0               7.0      3.0   \n",
      "3     22.0   45550          IT         22.0               8.0      3.0   \n",
      "4      NaN   43161  Operations         27.0               3.0      NaN   \n",
      "...    ...     ...         ...          ...               ...      ...   \n",
      "2634  36.0  185977  Management         15.0              15.0      5.0   \n",
      "2635  23.0   45758          IT         17.0              13.0      2.0   \n",
      "2636  21.0   47315         Web         29.0               1.0      5.0   \n",
      "2637  24.0   45172         Web         23.0               7.0      3.0   \n",
      "2638  24.0   49176   Marketing         17.0              13.0      2.0   \n",
      "\n",
      "      PAST EXP  \n",
      "0            0  \n",
      "1            7  \n",
      "2            0  \n",
      "3            0  \n",
      "4            3  \n",
      "...        ...  \n",
      "2634        10  \n",
      "2635         0  \n",
      "2636         0  \n",
      "2637         1  \n",
      "2638         2  \n",
      "\n",
      "[2639 rows x 13 columns]\n"
     ]
    }
   ],
   "source": [
    "import pandas as pd\n",
    "\n",
    "df = pd.read_csv(\"salaries.csv\")\n",
    "print(df)"
   ]
  },
  {
   "cell_type": "markdown",
   "metadata": {},
   "source": [
    "#### Q2. Modelando os dados\n",
    "Você deve **criar um ORM com SQLAlchemy capaz de comportar os dados dessa base**.\n",
    "\n",
    "* Crie um campo de chave primária `ID`, que deve ser incrementado automaticamente\n",
    "* Os campos SEX, DESIGNATION e UNIT devem ser definidos como classes `Enum` com os possíveis valores (consulte os valores únicos dessas colunas)\n",
    "* Para os outros campos, consulte os tipos de dados informados na descrição acima"
   ]
  },
  {
   "cell_type": "code",
   "execution_count": 62,
   "metadata": {},
   "outputs": [
    {
     "name": "stderr",
     "output_type": "stream",
     "text": [
      "C:\\Users\\PDBD008\\AppData\\Local\\Temp\\ipykernel_14492\\748241095.py:7: MovedIn20Warning: The ``declarative_base()`` function is now available as sqlalchemy.orm.declarative_base(). (deprecated since: 2.0) (Background on SQLAlchemy 2.0 at: https://sqlalche.me/e/b8d9)\n",
      "  Base = declarative_base()\n"
     ]
    }
   ],
   "source": [
    "### Escreva sua resposta aqui\n",
    "from sqlalchemy import create_engine, Column, Integer, String, Float, Date, Enum, select, func, text\n",
    "from sqlalchemy.ext.declarative import declarative_base\n",
    "from sqlalchemy.orm import sessionmaker\n",
    "import enum\n",
    "\n",
    "Base = declarative_base()\n",
    "\n",
    "class SexEnum(enum.Enum):\n",
    "    F = \"F\"\n",
    "    M = \"M\"\n",
    "\n",
    "class DesignationEnum(enum.Enum):\n",
    "    Analyst = \"Analyst\"\n",
    "    SeniorAnalyst = \"Senior Analyst\"\n",
    "    Manager = \"Manager\"\n",
    "    Associate = \"Associate\"\n",
    "    Director = \"Director\"\n",
    "    SeniorManager = \"Senior Manager\"\n",
    "\n",
    "class UnitEnum(enum.Enum):\n",
    "    IT = \"IT\"\n",
    "    Finance = \"Finance\"\n",
    "    Marketing = \"Marketing\"\n",
    "\n",
    "class Employee(Base):\n",
    "    __tablename__ = \"profissionais_dados\"\n",
    "\n",
    "    id = Column(Integer, primary_key=True, autoincrement=True)\n",
    "    first_name = Column(String, nullable=False)\n",
    "    last_name = Column(String, nullable=False)\n",
    "    sex = Column(Enum(SexEnum), nullable=False)\n",
    "    doj = Column(Date, nullable=False)\n",
    "    current_date = Column(Date, nullable=False)\n",
    "    # designation = Column(Enum(DesignationEnum, name = 'designationenum'), nullable = False)\n",
    "    designation = Column(String, nullable = False)\n",
    "    age = Column(Integer, nullable=False)\n",
    "    salary = Column(Float, nullable=False)\n",
    "    unit = Column(Enum(UnitEnum), nullable=False)\n",
    "    leaves_used = Column(Integer, nullable=False)\n",
    "    leaves_remaining = Column(Integer, nullable=False)\n",
    "    ratings = Column(Float, nullable=False)\n",
    "    past_exp = Column(Float, nullable=False)\n",
    "\n"
   ]
  },
  {
   "cell_type": "markdown",
   "metadata": {
    "vscode": {
     "languageId": "plaintext"
    }
   },
   "source": [
    "#### Q3. Estabelecendo uma conexão\n",
    "\n",
    "Usando o método `create_engine` do SQLAlchemy, crie uma conexão com um novo banco de dados SQLite chamado `salarios`."
   ]
  },
  {
   "cell_type": "code",
   "execution_count": 4,
   "metadata": {},
   "outputs": [],
   "source": [
    "engine = create_engine('sqlite:///salarios.db')"
   ]
  },
  {
   "cell_type": "markdown",
   "metadata": {},
   "source": [
    "#### Q4. Criando as tabelas\n",
    "Crie as tabelas da questão Q2 no banco `salarios`."
   ]
  },
  {
   "cell_type": "code",
   "execution_count": 5,
   "metadata": {},
   "outputs": [],
   "source": [
    "### Escreva sua resposta aqui\n",
    "Base.metadata.create_all(engine)\n",
    "\n",
    "Session = sessionmaker(bind=engine)\n",
    "session = Session()"
   ]
  },
  {
   "cell_type": "markdown",
   "metadata": {},
   "source": [
    "#### Q5. Populando\n",
    "\n",
    "Usando o método `to_sql` da biblioteca Pandas (veja [a documentação](https://pandas.pydata.org/docs/reference/api/pandas.DataFrame.to_sql.html)), popule o banco `salarios` com os dados do csv que você carregou na questão Q1.\n",
    "* Lembre-se de definir o parâmetro `if_exists='append'` para que as tabelas não sejam dropadas e recriadas."
   ]
  },
  {
   "cell_type": "code",
   "execution_count": 6,
   "metadata": {},
   "outputs": [
    {
     "data": {
      "text/plain": [
       "2639"
      ]
     },
     "execution_count": 6,
     "metadata": {},
     "output_type": "execute_result"
    }
   ],
   "source": [
    "### Escreva sua resposta aqui\n",
    "df.to_sql('profissionais_dados', con=engine, if_exists='append', index=False)"
   ]
  },
  {
   "cell_type": "markdown",
   "metadata": {},
   "source": [
    "#### Q6. Consultas SQL vs ORM\n",
    "\n",
    "Agrupe os dados por DESIGNATION e selecione o mínimo, máximo e a média dos salários (SALARY) divididos por 12. Já que o atributo SALARY é anual, dividir por 12 nos mostrará os valores mensais.\n",
    "\n",
    "Assumindo que a variável que armazena a sua conexão se chama `engine`, você deve realizar a query acima de três formas:\n",
    "* Executando a query SQL através de uma instância de conexão retornada pelo método `engine.connect()`\n",
    "* Executando a query SQL com o método `read_sql_query` do Pandas (veja [a documentação](https://pandas.pydata.org/docs/reference/api/pandas.read_sql_query.html)). Você usará mesma instância `engine.connect()` como um dos parâmetros.\n",
    "* Executando uma query criada com o módulo `select` do SQLAlchemy. Sua execução deve ser feita através de um objeto `Session` do módulo `orm` do SQLAlchemy (`Session(engine)`).\n"
   ]
  },
  {
   "cell_type": "code",
   "execution_count": 63,
   "metadata": {},
   "outputs": [
    {
     "name": "stdout",
     "output_type": "stream",
     "text": [
      "('Analyst', 3333, 4165, 3751.2170343766034)\n",
      "('Associate', 5846, 8300, 7266.465408805031)\n",
      "('Director', 17832, 32342, 23913.9375)\n",
      "('Manager', 8343, 12407, 10522.246913580248)\n",
      "('Senior Analyst', 4170, 5830, 4991.3258426966295)\n",
      "('Senior Manager', 12614, 16631, 14888.225806451614)\n"
     ]
    }
   ],
   "source": [
    "### Execute aqui sua query SQL com SQLAlchemy\n",
    "\n",
    "\n",
    "query = text(\"\"\"\n",
    "    SELECT DESIGNATION,\n",
    "           MIN(SALARY / 12) AS min_monthly_salary,\n",
    "           MAX(SALARY / 12) AS max_monthly_salary,\n",
    "           AVG(SALARY / 12) AS avg_monthly_salary\n",
    "    FROM profissionais_dados\n",
    "    GROUP BY DESIGNATION;\n",
    "\"\"\"\n",
    ")\n",
    "\n",
    "# Executando a query diretamente\n",
    "with engine.connect() as connection:\n",
    "    result = connection.execute(query)\n",
    "    for row in result:\n",
    "        print(row)"
   ]
  },
  {
   "cell_type": "code",
   "execution_count": 64,
   "metadata": {},
   "outputs": [
    {
     "name": "stdout",
     "output_type": "stream",
     "text": [
      "      DESIGNATION  min_salary_monthly  max_salary_monthly  avg_salary_monthly\n",
      "0         Analyst                3333                4165         3751.675988\n",
      "1       Associate                5846                8300         7266.915094\n",
      "2        Director               17832               32342        23914.265625\n",
      "3         Manager                8343               12407        10522.716049\n",
      "4  Senior Analyst                4170                5830         4991.778792\n",
      "5  Senior Manager               12614               16631        14888.689516\n"
     ]
    }
   ],
   "source": [
    "### Execute aqui sua query SQL com SQLAlchemy + Pandas\n",
    "query = \"\"\"\n",
    "SELECT DESIGNATION,\n",
    "       MIN(SALARY) / 12 AS min_salary_monthly,\n",
    "       MAX(SALARY) / 12 AS max_salary_monthly,\n",
    "       AVG(SALARY) / 12 AS avg_salary_monthly\n",
    "FROM profissionais_dados\n",
    "GROUP BY DESIGNATION;\n",
    "\"\"\"\n",
    "\n",
    "df_result = pd.read_sql_query(query, engine)\n",
    "\n",
    "print(df_result)"
   ]
  },
  {
   "cell_type": "code",
   "execution_count": 65,
   "metadata": {},
   "outputs": [
    {
     "name": "stdout",
     "output_type": "stream",
     "text": [
      "Designation: Analyst, Min Salary (Monthly): 3333.42, Max Salary (Monthly): 4165.00, Avg Salary (Monthly): 3751.68\n",
      "Designation: Associate, Min Salary (Monthly): 5846.17, Max Salary (Monthly): 8300.25, Avg Salary (Monthly): 7266.92\n",
      "Designation: Director, Min Salary (Monthly): 17832.25, Max Salary (Monthly): 32342.67, Avg Salary (Monthly): 23914.27\n",
      "Designation: Manager, Min Salary (Monthly): 8343.67, Max Salary (Monthly): 12407.50, Avg Salary (Monthly): 10522.72\n",
      "Designation: Senior Analyst, Min Salary (Monthly): 4170.33, Max Salary (Monthly): 5830.50, Avg Salary (Monthly): 4991.78\n",
      "Designation: Senior Manager, Min Salary (Monthly): 12614.42, Max Salary (Monthly): 16631.42, Avg Salary (Monthly): 14888.69\n"
     ]
    }
   ],
   "source": [
    "### Execute aqui sua query com SQLAlchemy ORM\n",
    "\n",
    "Session = sessionmaker(bind=engine)\n",
    "session = Session()\n",
    "\n",
    "stmt = (\n",
    "    select(\n",
    "        Employee.designation,\n",
    "        func.min(Employee.salary) / 12,\n",
    "        func.max(Employee.salary) / 12,\n",
    "        func.avg(Employee.salary) / 12\n",
    "    )\n",
    "    .group_by(Employee.designation)\n",
    ")\n",
    "\n",
    "result = session.execute(stmt)\n",
    "\n",
    "rows = list(result)\n",
    "if rows:\n",
    "    for row in rows:\n",
    "        print(f\"Designation: {row[0]}, Min Salary (Monthly): {row[1]:.2f}, Max Salary (Monthly): {row[2]:.2f}, Avg Salary (Monthly): {row[3]:.2f}\")\n",
    "else:\n",
    "    print(\"Nenhum dado foi retornado pela consulta.\")\n",
    "\n",
    "session.close()"
   ]
  }
 ],
 "metadata": {
  "kernelspec": {
   "display_name": "Python 3",
   "language": "python",
   "name": "python3"
  },
  "language_info": {
   "codemirror_mode": {
    "name": "ipython",
    "version": 3
   },
   "file_extension": ".py",
   "mimetype": "text/x-python",
   "name": "python",
   "nbconvert_exporter": "python",
   "pygments_lexer": "ipython3",
   "version": "3.12.6"
  }
 },
 "nbformat": 4,
 "nbformat_minor": 2
}
